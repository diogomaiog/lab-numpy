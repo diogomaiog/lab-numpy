{
 "cells": [
  {
   "cell_type": "markdown",
   "metadata": {},
   "source": [
    "# Intrduction to NumPy\n",
    "\n",
    "\n",
    "#### 1. Import NumPy under the name np."
   ]
  },
  {
   "cell_type": "code",
   "execution_count": 1,
   "metadata": {},
   "outputs": [],
   "source": [
    "# your code here\n",
    "import numpy as np"
   ]
  },
  {
   "cell_type": "markdown",
   "metadata": {},
   "source": [
    "#### 2. Print your NumPy version."
   ]
  },
  {
   "cell_type": "code",
   "execution_count": 2,
   "metadata": {},
   "outputs": [
    {
     "name": "stdout",
     "output_type": "stream",
     "text": [
      "1.18.5\n"
     ]
    }
   ],
   "source": [
    "# your code here\n",
    "print(np.__version__)"
   ]
  },
  {
   "cell_type": "markdown",
   "metadata": {},
   "source": [
    "#### 3. Generate a 2x3x5 3-dimensional array with random values. Assign the array to variable *a*.\n",
    "**Challenge**: there are at least three easy ways that use numpy to generate random arrays. How many ways can you find?"
   ]
  },
  {
   "cell_type": "code",
   "execution_count": 3,
   "metadata": {},
   "outputs": [
    {
     "name": "stdout",
     "output_type": "stream",
     "text": [
      "[[[0.08832715 0.70242548 0.81582906 0.29254103 0.50835376]\n",
      "  [0.98317054 0.64037497 0.50975059 0.23016932 0.2108094 ]\n",
      "  [0.99160815 0.5784684  0.61276057 0.75951847 0.23430639]]\n",
      "\n",
      " [[0.70255466 0.89158198 0.07747746 0.81189718 0.78379204]\n",
      "  [0.377824   0.59600867 0.63696112 0.840087   0.08699353]\n",
      "  [0.97223854 0.72444691 0.33644692 0.50101052 0.92408927]]]\n"
     ]
    }
   ],
   "source": [
    "# Method 1\n",
    "a = np.random.random((2,3,5))\n",
    "print(a)"
   ]
  },
  {
   "cell_type": "code",
   "execution_count": 4,
   "metadata": {},
   "outputs": [
    {
     "name": "stdout",
     "output_type": "stream",
     "text": [
      "[[[0.24691849 0.63707649 0.01466797 0.08070047 0.989904  ]\n",
      "  [0.90661713 0.9430628  0.27394017 0.80110745 0.6117039 ]\n",
      "  [0.13341273 0.30367757 0.24482244 0.53808326 0.63295071]]\n",
      "\n",
      " [[0.38937277 0.06395861 0.64259778 0.82143006 0.49643146]\n",
      "  [0.44497538 0.83781081 0.83792779 0.51824011 0.36582232]\n",
      "  [0.32823457 0.81171693 0.56016933 0.48470017 0.30258598]]]\n"
     ]
    }
   ],
   "source": [
    "# Method 2\n",
    "a = np.random.rand(2,3,5)\n",
    "print(a)"
   ]
  },
  {
   "cell_type": "code",
   "execution_count": 5,
   "metadata": {},
   "outputs": [
    {
     "name": "stdout",
     "output_type": "stream",
     "text": [
      "[[[56 92 63 29 62]\n",
      "  [80 21 49 68 54]\n",
      "  [52 81 39 93 65]]\n",
      "\n",
      " [[96  2 40 81 67]\n",
      "  [51 40 47 60 45]\n",
      "  [15 80 78 33 61]]]\n"
     ]
    }
   ],
   "source": [
    "# Method 3\n",
    "a = np.random.choice(range(0,101), size=(2,3,5))\n",
    "print(a)"
   ]
  },
  {
   "cell_type": "markdown",
   "metadata": {},
   "source": [
    "#### 4. Print *a*.\n"
   ]
  },
  {
   "cell_type": "code",
   "execution_count": 6,
   "metadata": {},
   "outputs": [
    {
     "name": "stdout",
     "output_type": "stream",
     "text": [
      "[[[56 92 63 29 62]\n",
      "  [80 21 49 68 54]\n",
      "  [52 81 39 93 65]]\n",
      "\n",
      " [[96  2 40 81 67]\n",
      "  [51 40 47 60 45]\n",
      "  [15 80 78 33 61]]]\n"
     ]
    }
   ],
   "source": [
    "# your code here\n",
    "print(a)"
   ]
  },
  {
   "cell_type": "markdown",
   "metadata": {},
   "source": [
    "#### 5. Create a 5x2x3 3-dimensional array with all values equaling 1. Assign the array to variable *b*."
   ]
  },
  {
   "cell_type": "code",
   "execution_count": 7,
   "metadata": {},
   "outputs": [],
   "source": [
    "# your code here\n",
    "b = np.full((5,2,3), 1)"
   ]
  },
  {
   "cell_type": "markdown",
   "metadata": {},
   "source": [
    "#### 6. Print *b*.\n"
   ]
  },
  {
   "cell_type": "code",
   "execution_count": 8,
   "metadata": {},
   "outputs": [
    {
     "name": "stdout",
     "output_type": "stream",
     "text": [
      "[[[1 1 1]\n",
      "  [1 1 1]]\n",
      "\n",
      " [[1 1 1]\n",
      "  [1 1 1]]\n",
      "\n",
      " [[1 1 1]\n",
      "  [1 1 1]]\n",
      "\n",
      " [[1 1 1]\n",
      "  [1 1 1]]\n",
      "\n",
      " [[1 1 1]\n",
      "  [1 1 1]]]\n"
     ]
    }
   ],
   "source": [
    "# your code here\n",
    "print(b)"
   ]
  },
  {
   "cell_type": "markdown",
   "metadata": {},
   "source": [
    "#### 7. Do *a* and *b* have the same size? How do you prove that in Python code?"
   ]
  },
  {
   "cell_type": "code",
   "execution_count": 9,
   "metadata": {},
   "outputs": [
    {
     "data": {
      "text/plain": [
       "False"
      ]
     },
     "execution_count": 9,
     "metadata": {},
     "output_type": "execute_result"
    }
   ],
   "source": [
    "# your code here\n",
    "np.shape(a) == np.shape(b)"
   ]
  },
  {
   "cell_type": "markdown",
   "metadata": {},
   "source": [
    "#### 8. Are you able to add *a* and *b*? Why or why not?"
   ]
  },
  {
   "cell_type": "code",
   "execution_count": 10,
   "metadata": {},
   "outputs": [],
   "source": [
    "# your answer here\n",
    "# No I can't, because of the different shapes. Two matrices must have an equal number of rows and columns to be added."
   ]
  },
  {
   "cell_type": "markdown",
   "metadata": {},
   "source": [
    "#### 9. Transpose *b* so that it has the same structure of *a* (i.e. become a 2x3x5 array). Assign the transposed array to variable *c*."
   ]
  },
  {
   "cell_type": "code",
   "execution_count": 11,
   "metadata": {},
   "outputs": [
    {
     "name": "stdout",
     "output_type": "stream",
     "text": [
      "(5, 2, 3)\n",
      "(2, 3, 5)\n"
     ]
    }
   ],
   "source": [
    "# your code here\n",
    "print(np.shape(b))\n",
    "c = np.transpose(b,(1,2,0))\n",
    "print(np.shape(c))"
   ]
  },
  {
   "cell_type": "markdown",
   "metadata": {},
   "source": [
    "#### 10. Try to add *a* and *c*. Now it should work. Assign the sum to variable *d*. But why does it work now?"
   ]
  },
  {
   "cell_type": "code",
   "execution_count": 12,
   "metadata": {},
   "outputs": [
    {
     "name": "stdout",
     "output_type": "stream",
     "text": [
      "[[[57 93 64 30 63]\n",
      "  [81 22 50 69 55]\n",
      "  [53 82 40 94 66]]\n",
      "\n",
      " [[97  3 41 82 68]\n",
      "  [52 41 48 61 46]\n",
      "  [16 81 79 34 62]]]\n"
     ]
    }
   ],
   "source": [
    "# your code/answer here\n",
    "d = a + c\n",
    "print(d)"
   ]
  },
  {
   "cell_type": "markdown",
   "metadata": {},
   "source": [
    "#### 11. Print *a* and *d*. Notice the difference and relation of the two array in terms of the values? Explain."
   ]
  },
  {
   "cell_type": "code",
   "execution_count": 13,
   "metadata": {},
   "outputs": [
    {
     "name": "stdout",
     "output_type": "stream",
     "text": [
      "[[[56 92 63 29 62]\n",
      "  [80 21 49 68 54]\n",
      "  [52 81 39 93 65]]\n",
      "\n",
      " [[96  2 40 81 67]\n",
      "  [51 40 47 60 45]\n",
      "  [15 80 78 33 61]]]\n",
      "[[[57 93 64 30 63]\n",
      "  [81 22 50 69 55]\n",
      "  [53 82 40 94 66]]\n",
      "\n",
      " [[97  3 41 82 68]\n",
      "  [52 41 48 61 46]\n",
      "  [16 81 79 34 62]]]\n"
     ]
    }
   ],
   "source": [
    "# your code/answer here\n",
    "print(a)\n",
    "print(d)\n",
    "# Each value has been incremented by one (becasue c has one in all positions)"
   ]
  },
  {
   "cell_type": "markdown",
   "metadata": {},
   "source": [
    "#### 12. Multiply *a* and *c*. Assign the result to *e*."
   ]
  },
  {
   "cell_type": "code",
   "execution_count": 14,
   "metadata": {},
   "outputs": [],
   "source": [
    "# your code here\n",
    "e = a * c"
   ]
  },
  {
   "cell_type": "markdown",
   "metadata": {},
   "source": [
    "#### 13. Does *e* equal to *a*? Why or why not?\n"
   ]
  },
  {
   "cell_type": "code",
   "execution_count": 15,
   "metadata": {},
   "outputs": [
    {
     "name": "stdout",
     "output_type": "stream",
     "text": [
      "[[[56 92 63 29 62]\n",
      "  [80 21 49 68 54]\n",
      "  [52 81 39 93 65]]\n",
      "\n",
      " [[96  2 40 81 67]\n",
      "  [51 40 47 60 45]\n",
      "  [15 80 78 33 61]]]\n",
      "[[[56 92 63 29 62]\n",
      "  [80 21 49 68 54]\n",
      "  [52 81 39 93 65]]\n",
      "\n",
      " [[96  2 40 81 67]\n",
      "  [51 40 47 60 45]\n",
      "  [15 80 78 33 61]]]\n"
     ]
    }
   ],
   "source": [
    "# your code/answer here\n",
    "e == a\n",
    "print(e)\n",
    "print(a)\n",
    "# Yes, because all we did was multiply every element of a by the equivalent in c, wich is filled with ones."
   ]
  },
  {
   "cell_type": "markdown",
   "metadata": {},
   "source": [
    "#### 14. Identify the max, min, and mean values in *d*. Assign those values to variables *d_max*, *d_min* and *d_mean*."
   ]
  },
  {
   "cell_type": "code",
   "execution_count": 16,
   "metadata": {},
   "outputs": [
    {
     "name": "stdout",
     "output_type": "stream",
     "text": [
      "[[[57 93 64 30 63]\n",
      "  [81 22 50 69 55]\n",
      "  [53 82 40 94 66]]\n",
      "\n",
      " [[97  3 41 82 68]\n",
      "  [52 41 48 61 46]\n",
      "  [16 81 79 34 62]]]\n",
      "max: 97, min: 3, mean: 57.666666666666664\n"
     ]
    }
   ],
   "source": [
    "# your code here\n",
    "print(d)\n",
    "d_max = np.amax(d)\n",
    "d_min = np.amin(d)\n",
    "d_mean = np.mean(d)\n",
    "print(f\"max: {d_max}, min: {d_min}, mean: {d_mean}\")"
   ]
  },
  {
   "cell_type": "markdown",
   "metadata": {},
   "source": [
    "#### 15. Now we want to label the values in *d*. First create an empty array *f* with the same shape (i.e. 2x3x5) as *d* using `np.empty`.\n"
   ]
  },
  {
   "cell_type": "code",
   "execution_count": 17,
   "metadata": {},
   "outputs": [
    {
     "name": "stdout",
     "output_type": "stream",
     "text": [
      "[[[0.24691849 0.63707649 0.01466797 0.08070047 0.989904  ]\n",
      "  [0.90661713 0.9430628  0.27394017 0.80110745 0.6117039 ]\n",
      "  [0.13341273 0.30367757 0.24482244 0.53808326 0.63295071]]\n",
      "\n",
      " [[0.38937277 0.06395861 0.64259778 0.82143006 0.49643146]\n",
      "  [0.44497538 0.83781081 0.83792779 0.51824011 0.36582232]\n",
      "  [0.32823457 0.81171693 0.56016933 0.48470017 0.30258598]]]\n"
     ]
    }
   ],
   "source": [
    "# your code here\n",
    "f = np.empty((2,3,5))\n",
    "print(f)"
   ]
  },
  {
   "cell_type": "markdown",
   "metadata": {},
   "source": [
    "#### 16. Populate the values in *f*. \n",
    "\n",
    "For each value in *d*, if it's larger than *d_min* but smaller than *d_mean*, assign 25 to the corresponding value in *f*. If a value in *d* is larger than *d_mean* but smaller than *d_max*, assign 75 to the corresponding value in *f*. If a value equals to *d_mean*, assign 50 to the corresponding value in *f*. Assign 0 to the corresponding value(s) in *f* for *d_min* in *d*. Assign 100 to the corresponding value(s) in *f* for *d_max* in *d*. In the end, f should have only the following values: 0, 25, 50, 75, and 100.\n",
    "\n",
    "**Note**: you don't have to use Numpy in this question."
   ]
  },
  {
   "cell_type": "code",
   "execution_count": 18,
   "metadata": {},
   "outputs": [],
   "source": [
    "# your code here\n",
    "#print(d)\n",
    "#print(np.shape(d))\n",
    "#print(d[0,0,0])\n",
    "#print(d[1,0,0])\n",
    "#for z in d:\n",
    "#    for y in z:\n",
    "#        for x in y:\n",
    "#            print(x)\n",
    "        \n",
    "#for z in d:\n",
    "#    for y in z:\n",
    "#        for x in y:\n",
    "#            if x > d_min and x < d_mean:\n",
    "#                f[z,y,x] = 25\n",
    "#            if x > d_mean and x < d_max:\n",
    "#                f[z,y,x] = 75\n",
    "#            if x == d_mean:\n",
    "#                f[z,y,x] = 50\n",
    "#            if x == d_min:\n",
    "#                f[z,y,x] = 0\n",
    "#            if x == d_max:\n",
    "#                f[z,y,x] = 100\n",
    "\n",
    "#f = np.where(d > d_min and d < d_mean, 25)\n",
    "\n",
    "f = np.where((d == d_max), 100, d)\n",
    "f = np.where((f > d_mean) & (f < d_max), 75, f)\n",
    "f = np.where((f == d_mean), 50, f)\n",
    "f = np.where((f > d_min) & (f < d_mean), 25, f)\n",
    "f = np.where((f == d_min), 0, f)\n",
    "\n",
    "#print(f)\n"
   ]
  },
  {
   "cell_type": "markdown",
   "metadata": {},
   "source": [
    "#### 17. Print *d* and *f*. Do you have your expected *f*?\n",
    "For instance, if your *d* is:\n",
    "```python\n",
    "[[[1.85836099, 1.67064465, 1.62576044, 1.40243961, 1.88454931],\n",
    "[1.75354326, 1.69403643, 1.36729252, 1.61415071, 1.12104981],\n",
    "[1.72201435, 1.1862918 , 1.87078449, 1.7726778 , 1.88180042]],\n",
    "[[1.44747908, 1.31673383, 1.02000951, 1.52218947, 1.97066381],\n",
    "[1.79129243, 1.74983003, 1.96028037, 1.85166831, 1.65450881],\n",
    "[1.18068344, 1.9587381 , 1.00656599, 1.93402165, 1.73514584]]]\n",
    "```\n",
    "Your *f* should be:\n",
    "```python\n",
    "[[[ 75.,  75.,  75.,  25.,  75.],\n",
    "[ 75.,  75.,  25.,  25.,  25.],\n",
    "[ 75.,  25.,  75.,  75.,  75.]],\n",
    "[[ 25.,  25.,  25.,  25., 100.],\n",
    "[ 75.,  75.,  75.,  75.,  75.],\n",
    "[ 25.,  75.,   0.,  75.,  75.]]]\n",
    "```"
   ]
  },
  {
   "cell_type": "code",
   "execution_count": 19,
   "metadata": {},
   "outputs": [
    {
     "name": "stdout",
     "output_type": "stream",
     "text": [
      "[[[57 93 64 30 63]\n",
      "  [81 22 50 69 55]\n",
      "  [53 82 40 94 66]]\n",
      "\n",
      " [[97  3 41 82 68]\n",
      "  [52 41 48 61 46]\n",
      "  [16 81 79 34 62]]]\n",
      "[[[ 25  75  75  25  75]\n",
      "  [ 75  25  25  75  25]\n",
      "  [ 25  75  25  75  75]]\n",
      "\n",
      " [[100   0  25  75  75]\n",
      "  [ 25  25  25  75  25]\n",
      "  [ 25  75  75  25  75]]]\n"
     ]
    }
   ],
   "source": [
    "# your code here\n",
    "print(d)\n",
    "print(f)"
   ]
  },
  {
   "cell_type": "markdown",
   "metadata": {},
   "source": [
    "#### 18. Bonus question: instead of using numbers (i.e. 0, 25, 50, 75, and 100), use string values  (\"A\", \"B\", \"C\", \"D\", and \"E\") to label the array elements. For the example above, the expected result is:\n",
    "\n",
    "```python\n",
    "[[[ 'D',  'D',  'D',  'B',  'D'],\n",
    "[ 'D',  'D',  'B',  'B',  'B'],\n",
    "[ 'D',  'B',  'D',  'D',  'D']],\n",
    "[[ 'B',  'B',  'B',  'B',  'E'],\n",
    "[ 'D',  'D',  'D',  'D',  'D'],\n",
    "[ 'B',  'D',   'A',  'D', 'D']]]\n",
    "```\n",
    "**Note**: you don't have to use Numpy in this question."
   ]
  },
  {
   "cell_type": "code",
   "execution_count": 21,
   "metadata": {},
   "outputs": [],
   "source": [
    "# your code here"
   ]
  },
  {
   "cell_type": "code",
   "execution_count": null,
   "metadata": {},
   "outputs": [],
   "source": []
  }
 ],
 "metadata": {
  "kernelspec": {
   "display_name": "Python 3",
   "language": "python",
   "name": "python3"
  },
  "language_info": {
   "codemirror_mode": {
    "name": "ipython",
    "version": 3
   },
   "file_extension": ".py",
   "mimetype": "text/x-python",
   "name": "python",
   "nbconvert_exporter": "python",
   "pygments_lexer": "ipython3",
   "version": "3.8.3"
  }
 },
 "nbformat": 4,
 "nbformat_minor": 2
}
